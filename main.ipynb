{
 "cells": [
  {
   "cell_type": "code",
   "execution_count": null,
   "id": "c5fdd3fc",
   "metadata": {},
   "outputs": [],
   "source": [
    "import uppercase_counter\n",
    "\n",
    "text = input(\"Masukan text: \")\n",
    "uppercase = uppercase_counter.count_uppercase(text);\n",
    "print(text)\n",
    "print(\"Jumlah huruf besar: \", uppercase)"
   ]
  }
 ],
 "metadata": {
  "kernelspec": {
   "display_name": "Python 3 (ipykernel)",
   "language": "python",
   "name": "python3"
  },
  "language_info": {
   "codemirror_mode": {
    "name": "ipython",
    "version": 3
   },
   "file_extension": ".py",
   "mimetype": "text/x-python",
   "name": "python",
   "nbconvert_exporter": "python",
   "pygments_lexer": "ipython3",
   "version": "3.9.12"
  }
 },
 "nbformat": 4,
 "nbformat_minor": 5
}
